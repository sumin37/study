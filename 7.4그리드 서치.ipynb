{
 "cells": [
  {
   "cell_type": "code",
   "execution_count": 1,
   "id": "dead9000",
   "metadata": {},
   "outputs": [],
   "source": [
    "from sklearn import datasets\n",
    "from sklearn.preprocessing import StandardScaler\n",
    "from sklearn.neighbors import KNeighborsClassifier\n",
    "from sklearn.model_selection import train_test_split\n",
    "\n",
    "from sklearn.metrics import accuracy_score\n",
    "from sklearn.metrics import confusion_matrix\n",
    "from sklearn.metrics import classification_report"
   ]
  },
  {
   "cell_type": "code",
   "execution_count": 2,
   "id": "62c7ac9d",
   "metadata": {},
   "outputs": [],
   "source": [
    "#data load\n",
    "iris = datasets.load_iris()"
   ]
  },
  {
   "cell_type": "code",
   "execution_count": 3,
   "id": "736b3996",
   "metadata": {},
   "outputs": [],
   "source": [
    "x = iris.data\n",
    "y = iris.target"
   ]
  },
  {
   "cell_type": "code",
   "execution_count": 4,
   "id": "a8501d8b",
   "metadata": {},
   "outputs": [],
   "source": [
    "x_tn, x_te, y_tn, y_te = train_test_split(x,y,random_state=0)"
   ]
  },
  {
   "cell_type": "code",
   "execution_count": 5,
   "id": "4505476c",
   "metadata": {},
   "outputs": [],
   "source": [
    "#표준화 스케일\n",
    "std_scale = StandardScaler()\n",
    "std_scale.fit(x_tn)\n",
    "x_tn_std = std_scale.transform(x_tn)\n",
    "x_te_std = std_scale.transform(x_te)"
   ]
  },
  {
   "cell_type": "code",
   "execution_count": 6,
   "id": "9561f0a5",
   "metadata": {},
   "outputs": [],
   "source": [
    "best_accuarcy = 0"
   ]
  },
  {
   "cell_type": "code",
   "execution_count": 7,
   "id": "c37530db",
   "metadata": {},
   "outputs": [
    {
     "name": "stdout",
     "output_type": "stream",
     "text": [
      "{'k': 3}\n",
      "0.9736842105263158\n"
     ]
    }
   ],
   "source": [
    "for k in [1,2,3,4,5,6,7,8,9,10]:\n",
    "    clf_knn = KNeighborsClassifier(n_neighbors = k)\n",
    "    clf_knn.fit(x_tn_std,y_tn)\n",
    "    knn_pred = clf_knn.predict(x_te_std)\n",
    "    accuarcy = accuracy_score(y_te,knn_pred)\n",
    "    if accuarcy > best_accuarcy:\n",
    "        best_accuarcy = accuarcy\n",
    "        final_k = {'k':k}\n",
    "        \n",
    "print(final_k)\n",
    "print(accuarcy)"
   ]
  },
  {
   "cell_type": "code",
   "execution_count": null,
   "id": "1408438f",
   "metadata": {},
   "outputs": [],
   "source": []
  }
 ],
 "metadata": {
  "jupytext": {
   "formats": "ipynb,auto:light"
  },
  "kernelspec": {
   "display_name": "Python 3 (ipykernel)",
   "language": "python",
   "name": "python3"
  },
  "language_info": {
   "codemirror_mode": {
    "name": "ipython",
    "version": 3
   },
   "file_extension": ".py",
   "mimetype": "text/x-python",
   "name": "python",
   "nbconvert_exporter": "python",
   "pygments_lexer": "ipython3",
   "version": "3.9.12"
  }
 },
 "nbformat": 4,
 "nbformat_minor": 5
}
