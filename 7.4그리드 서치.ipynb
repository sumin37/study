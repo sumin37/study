{
 "cells": [
  {
   "cell_type": "code",
   "execution_count": 6,
   "id": "dead9000",
   "metadata": {},
   "outputs": [],
   "source": [
    "from sklearn import datasets\n",
    "from sklearn.preprocessing import StandardScaler\n",
    "from sklearn.neighbors import KNeighborsClassifier\n",
    "from sklearn.model_selection import train_test_split\n",
    "\n",
    "from sklearn.metrics import accuracy_score\n",
    "from sklearn.metrics import confusion_matrix\n",
    "from sklearn.metrics import classification_report"
   ]
  },
  {
   "cell_type": "code",
   "execution_count": 8,
   "id": "62c7ac9d",
   "metadata": {},
   "outputs": [],
   "source": [
    "#data load\n",
    "iris = datasets.load_iris()"
   ]
  },
  {
   "cell_type": "code",
   "execution_count": 9,
   "id": "736b3996",
   "metadata": {},
   "outputs": [],
   "source": [
    "x = iris.data\n",
    "y = iris.target"
   ]
  },
  {
   "cell_type": "code",
   "execution_count": 10,
   "id": "a8501d8b",
   "metadata": {},
   "outputs": [],
   "source": [
    "x_tn, x_te, y_tn, y_te = train_test_split(x,y,random_state=0)"
   ]
  },
  {
   "cell_type": "code",
   "execution_count": 11,
   "id": "4505476c",
   "metadata": {},
   "outputs": [],
   "source": [
    "#표준화 스케일\n",
    "std_scale = StandardScaler()\n",
    "std_scale.fit(x_tn)\n",
    "x_tn_std = std_scale.transform(x_tn)\n",
    "x_te_std = std_scale.transform(x_te)"
   ]
  },
  {
   "cell_type": "code",
   "execution_count": 12,
   "id": "9561f0a5",
   "metadata": {},
   "outputs": [],
   "source": [
    "best_accuarcy = 0"
   ]
  },
  {
   "cell_type": "code",
   "execution_count": 16,
   "id": "c37530db",
   "metadata": {},
   "outputs": [
    {
     "ename": "NameError",
     "evalue": "name 'best_accuracy' is not defined",
     "output_type": "error",
     "traceback": [
      "\u001b[0;31m---------------------------------------------------------------------------\u001b[0m",
      "\u001b[0;31mNameError\u001b[0m                                 Traceback (most recent call last)",
      "Input \u001b[0;32mIn [16]\u001b[0m, in \u001b[0;36m<cell line: 1>\u001b[0;34m()\u001b[0m\n\u001b[1;32m      4\u001b[0m knn_pred \u001b[38;5;241m=\u001b[39m clf_knn\u001b[38;5;241m.\u001b[39mpredict(x_te_std)\n\u001b[1;32m      5\u001b[0m accuarcy \u001b[38;5;241m=\u001b[39m accuracy_score(y_te,knn_pred)\n\u001b[0;32m----> 6\u001b[0m \u001b[38;5;28;01mif\u001b[39;00m accuarcy \u001b[38;5;241m>\u001b[39m \u001b[43mbest_accuracy\u001b[49m:\n\u001b[1;32m      7\u001b[0m     best_accuracy \u001b[38;5;241m=\u001b[39m accuarcy\n\u001b[1;32m      8\u001b[0m     final_k \u001b[38;5;241m=\u001b[39m {\u001b[38;5;124m'\u001b[39m\u001b[38;5;124mk\u001b[39m\u001b[38;5;124m'\u001b[39m:k}\n",
      "\u001b[0;31mNameError\u001b[0m: name 'best_accuracy' is not defined"
     ]
    }
   ],
   "source": [
    "for k in [1,2,3,4,5,6,7,8,9,10]:\n",
    "    clf_knn = KNeighborsClassifier(n_neighbors = k)\n",
    "    clf_knn.fit(x_tn_std,y_tn)\n",
    "    knn_pred = clf_knn.predict(x_te_std)\n",
    "    accuarcy = accuracy_score(y_te,knn_pred)\n",
    "    if accuarcy > best_accuracy:\n",
    "        best_accuracy = accuarcy\n",
    "        final_k = {'k':k}\n",
    "        \n",
    "print(final_k)\n",
    "print(accuracy)"
   ]
  },
  {
   "cell_type": "code",
   "execution_count": null,
   "id": "1408438f",
   "metadata": {},
   "outputs": [],
   "source": []
  }
 ],
 "metadata": {
  "kernelspec": {
   "display_name": "Python 3 (ipykernel)",
   "language": "python",
   "name": "python3"
  },
  "language_info": {
   "codemirror_mode": {
    "name": "ipython",
    "version": 3
   },
   "file_extension": ".py",
   "mimetype": "text/x-python",
   "name": "python",
   "nbconvert_exporter": "python",
   "pygments_lexer": "ipython3",
   "version": "3.9.12"
  }
 },
 "nbformat": 4,
 "nbformat_minor": 5
}
