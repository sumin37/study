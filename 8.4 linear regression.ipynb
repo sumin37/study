{
 "cells": [
  {
   "cell_type": "code",
   "execution_count": 3,
   "id": "bb564ada",
   "metadata": {},
   "outputs": [],
   "source": [
    "from sklearn import datasets\n",
    "from sklearn.preprocessing import StandardScaler\n",
    "from sklearn.model_selection import train_test_split\n",
    "from sklearn.linear_model import Ridge\n",
    "from sklearn.linear_model import Lasso\n",
    "from sklearn.linear_model import ElasticNet\n",
    "from sklearn.linear_model import LinearRegression\n",
    "from sklearn.metrics import r2_score\n",
    "from sklearn.metrics import mean_squared_error"
   ]
  },
  {
   "cell_type": "code",
   "execution_count": 5,
   "id": "e5403dfb",
   "metadata": {},
   "outputs": [],
   "source": [
    "boston = datasets.load_boston()"
   ]
  },
  {
   "cell_type": "code",
   "execution_count": 7,
   "id": "ee298feb",
   "metadata": {},
   "outputs": [],
   "source": [
    "x = boston.data\n",
    "y = boston.target"
   ]
  },
  {
   "cell_type": "code",
   "execution_count": 8,
   "id": "8b30202d",
   "metadata": {},
   "outputs": [],
   "source": [
    "x_tn, x_te, y_tn,y_te = train_test_split(x,y,random_state=1)"
   ]
  },
  {
   "cell_type": "code",
   "execution_count": 10,
   "id": "f7b0c2a4",
   "metadata": {},
   "outputs": [],
   "source": [
    "std_scale = StandardScaler()\n",
    "std_scale.fit(x_tn)\n",
    "x_tn_std = std_scale.transform(x_tn)\n",
    "x_te_std = std_scale.transform(x_te)"
   ]
  },
  {
   "cell_type": "code",
   "execution_count": 11,
   "id": "d9f1b800",
   "metadata": {},
   "outputs": [],
   "source": [
    "clf_lr = LinearRegression()"
   ]
  },
  {
   "cell_type": "code",
   "execution_count": 12,
   "id": "d190fd70",
   "metadata": {},
   "outputs": [
    {
     "data": {
      "text/plain": [
       "LinearRegression()"
      ]
     },
     "execution_count": 12,
     "metadata": {},
     "output_type": "execute_result"
    }
   ],
   "source": [
    "clf_lr.fit(x_tn_std,y_tn)"
   ]
  },
  {
   "cell_type": "code",
   "execution_count": 13,
   "id": "74a62338",
   "metadata": {},
   "outputs": [
    {
     "name": "stdout",
     "output_type": "stream",
     "text": [
      "[-1.07145146  1.34036243  0.26298069  0.66554537 -2.49842551  1.97524314\n",
      "  0.19516605 -3.14274974  2.66736136 -1.80685572 -2.13034748  0.56172933\n",
      " -4.03223518]\n",
      "22.344591029023768\n"
     ]
    }
   ],
   "source": [
    "print(clf_lr.coef_)\n",
    "print(clf_lr.intercept_)"
   ]
  },
  {
   "cell_type": "code",
   "execution_count": 15,
   "id": "34b43d69",
   "metadata": {},
   "outputs": [
    {
     "name": "stdout",
     "output_type": "stream",
     "text": [
      "[-1.05933451  1.31050717  0.23022789  0.66955241 -2.45607567  1.99086611\n",
      "  0.18119169 -3.09919804  2.56480813 -1.71116799 -2.12002592  0.56264409\n",
      " -4.00942448]\n",
      "22.344591029023768\n"
     ]
    }
   ],
   "source": [
    "clf_ridge = Ridge(alpha=1)\n",
    "clf_ridge.fit(x_tn_std,y_tn)\n",
    "print(clf_ridge.coef_)\n",
    "print(clf_ridge.intercept_)"
   ]
  },
  {
   "cell_type": "code",
   "execution_count": 16,
   "id": "1d1272eb",
   "metadata": {},
   "outputs": [
    {
     "data": {
      "text/plain": [
       "Lasso(alpha=0.01)"
      ]
     },
     "execution_count": 16,
     "metadata": {},
     "output_type": "execute_result"
    }
   ],
   "source": [
    "clf_lasso = Lasso(alpha=0.01)\n",
    "clf_lasso.fit(x_tn_std,y_tn)"
   ]
  },
  {
   "cell_type": "code",
   "execution_count": 18,
   "id": "8f9dc23c",
   "metadata": {},
   "outputs": [
    {
     "name": "stdout",
     "output_type": "stream",
     "text": [
      "[-1.04326518  1.27752711  0.1674367   0.66758228 -2.41559964  1.99244179\n",
      "  0.14733958 -3.09473711  2.46431135 -1.60552274 -2.11046422  0.55200229\n",
      " -4.00809905]\n",
      "22.344591029023768\n"
     ]
    }
   ],
   "source": [
    "print(clf_lasso.coef_)\n",
    "print(clf_lasso.intercept_)"
   ]
  },
  {
   "cell_type": "code",
   "execution_count": 19,
   "id": "1e7857cb",
   "metadata": {},
   "outputs": [
    {
     "name": "stdout",
     "output_type": "stream",
     "text": [
      "[-1.02916603  1.23681955  0.15236504  0.67859622 -2.34646781  2.02965524\n",
      "  0.14575132 -2.98592423  2.32013379 -1.48829485 -2.09271972  0.56506801\n",
      " -3.9495281 ]\n",
      "22.344591029023768\n"
     ]
    }
   ],
   "source": [
    "clf_elastic = ElasticNet(alpha=0.01, l1_ratio=0.01)\n",
    "clf_elastic.fit(x_tn_std,y_tn)\n",
    "print(clf_elastic.coef_)\n",
    "print(clf_elastic.intercept_)"
   ]
  },
  {
   "cell_type": "code",
   "execution_count": 20,
   "id": "17488f96",
   "metadata": {},
   "outputs": [],
   "source": [
    "pred_lr = clf_lr.predict(x_te_std)\n",
    "pred_ridge = clf_ridge.predict(x_te_std)\n",
    "pred_lasso = clf_lasso.predict(x_te_std)\n",
    "pred_elastic = clf_elastic.predict(x_te_std)"
   ]
  },
  {
   "cell_type": "code",
   "execution_count": 22,
   "id": "6e95ac56",
   "metadata": {},
   "outputs": [
    {
     "name": "stdout",
     "output_type": "stream",
     "text": [
      "0.7789410172622857\n",
      "0.7789704562726605\n",
      "0.7787621490259894\n",
      "0.7787876079239252\n"
     ]
    }
   ],
   "source": [
    "print(r2_score(y_te, pred_lr))\n",
    "print(r2_score(y_te,pred_ridge))\n",
    "print(r2_score(y_te,pred_lasso))\n",
    "print(r2_score(y_te,pred_elastic))"
   ]
  },
  {
   "cell_type": "code",
   "execution_count": 23,
   "id": "fff71666",
   "metadata": {},
   "outputs": [
    {
     "name": "stdout",
     "output_type": "stream",
     "text": [
      "21.897765396049504\n",
      "21.89484921261875\n",
      "21.91548381050483\n",
      "21.91296189093687\n"
     ]
    }
   ],
   "source": [
    "print(mean_squared_error(y_te, pred_lr))\n",
    "print(mean_squared_error(y_te, pred_ridge))\n",
    "print(mean_squared_error(y_te, pred_lasso))\n",
    "print(mean_squared_error(y_te,pred_elastic))"
   ]
  },
  {
   "cell_type": "code",
   "execution_count": null,
   "id": "84fda366",
   "metadata": {},
   "outputs": [],
   "source": []
  }
 ],
 "metadata": {
  "jupytext": {
   "formats": "ipynb,auto:light"
  },
  "kernelspec": {
   "display_name": "Python 3 (ipykernel)",
   "language": "python",
   "name": "python3"
  },
  "language_info": {
   "codemirror_mode": {
    "name": "ipython",
    "version": 3
   },
   "file_extension": ".py",
   "mimetype": "text/x-python",
   "name": "python",
   "nbconvert_exporter": "python",
   "pygments_lexer": "ipython3",
   "version": "3.9.12"
  }
 },
 "nbformat": 4,
 "nbformat_minor": 5
}
