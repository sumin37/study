{
 "cells": [
  {
   "cell_type": "code",
   "execution_count": 1,
   "id": "0631b1bf",
   "metadata": {},
   "outputs": [],
   "source": [
    "from sklearn import datasets\n",
    "from sklearn.pipeline import Pipeline\n",
    "from sklearn.preprocessing import StandardScaler\n",
    "from sklearn.linear_model import LinearRegression\n",
    "from sklearn.model_selection import train_test_split\n",
    "from sklearn.metrics import mean_squared_error"
   ]
  },
  {
   "cell_type": "code",
   "execution_count": 4,
   "id": "368f99c6",
   "metadata": {},
   "outputs": [],
   "source": [
    "raw_boston = datasets.load_boston()\n",
    "X = raw_boston.data\n",
    "y = raw_boston.target"
   ]
  },
  {
   "cell_type": "code",
   "execution_count": 5,
   "id": "9cc3b081",
   "metadata": {},
   "outputs": [],
   "source": [
    "# 트레이닝, 테스트 데이터 분할\n",
    "X_tn, X_te, y_tn, y_te = train_test_split(X,y,random_state=7)"
   ]
  },
  {
   "cell_type": "code",
   "execution_count": 6,
   "id": "798d151b",
   "metadata": {},
   "outputs": [],
   "source": [
    "#표준화 스케일링\n",
    "std_scale = StandardScaler()\n",
    "X_tn_std = std_scale.fit_transform(X_tn)\n",
    "X_te_std = std_scale.transform(X_te)"
   ]
  },
  {
   "cell_type": "code",
   "execution_count": 7,
   "id": "74a81d11",
   "metadata": {},
   "outputs": [
    {
     "data": {
      "text/plain": [
       "LinearRegression()"
      ]
     },
     "execution_count": 7,
     "metadata": {},
     "output_type": "execute_result"
    }
   ],
   "source": [
    "#학습\n",
    "clf_linear = LinearRegression()\n",
    "clf_linear.fit(X_tn_std, y_tn)"
   ]
  },
  {
   "cell_type": "code",
   "execution_count": 8,
   "id": "e7c4dd5c",
   "metadata": {},
   "outputs": [],
   "source": [
    "#예측\n",
    "pred_linear = clf_linear.predict(X_te_std)"
   ]
  },
  {
   "cell_type": "code",
   "execution_count": 9,
   "id": "a6ac95a6",
   "metadata": {},
   "outputs": [
    {
     "data": {
      "text/plain": [
       "29.515137790197603"
      ]
     },
     "execution_count": 9,
     "metadata": {},
     "output_type": "execute_result"
    }
   ],
   "source": [
    "#평가\n",
    "mean_squared_error(y_te,pred_linear)"
   ]
  },
  {
   "cell_type": "markdown",
   "id": "7adf6e95",
   "metadata": {},
   "source": [
    "## 파이프라인 사용 후 전체코드"
   ]
  },
  {
   "cell_type": "code",
   "execution_count": 10,
   "id": "e0640a42",
   "metadata": {},
   "outputs": [],
   "source": [
    "#데이터 분할\n",
    "X_tn, X_te, y_tn,y_te = train_test_split(X,y,random_state=7)"
   ]
  },
  {
   "cell_type": "code",
   "execution_count": 11,
   "id": "30b80733",
   "metadata": {},
   "outputs": [],
   "source": [
    "#pipline\n",
    "linear_pipline = Pipeline([\n",
    "    ('scaler',StandardScaler()),\n",
    "    ('linear_regression', LinearRegression())\n",
    "])"
   ]
  },
  {
   "cell_type": "code",
   "execution_count": 12,
   "id": "967074fc",
   "metadata": {},
   "outputs": [
    {
     "data": {
      "text/plain": [
       "Pipeline(steps=[('scaler', StandardScaler()),\n",
       "                ('linear_regression', LinearRegression())])"
      ]
     },
     "execution_count": 12,
     "metadata": {},
     "output_type": "execute_result"
    }
   ],
   "source": [
    "#학습\n",
    "linear_pipline.fit(X_tn, y_tn)"
   ]
  },
  {
   "cell_type": "code",
   "execution_count": 13,
   "id": "e880be40",
   "metadata": {},
   "outputs": [],
   "source": [
    "#예측\n",
    "pred_linear = linear_pipline.predict(X_te)"
   ]
  },
  {
   "cell_type": "code",
   "execution_count": 14,
   "id": "a774ad1a",
   "metadata": {},
   "outputs": [
    {
     "data": {
      "text/plain": [
       "29.515137790197603"
      ]
     },
     "execution_count": 14,
     "metadata": {},
     "output_type": "execute_result"
    }
   ],
   "source": [
    "#평가\n",
    "mean_squared_error(y_te, pred_linear)"
   ]
  },
  {
   "cell_type": "code",
   "execution_count": null,
   "id": "3522534d",
   "metadata": {},
   "outputs": [],
   "source": []
  }
 ],
 "metadata": {
  "jupytext": {
   "formats": "ipynb,auto:light"
  },
  "kernelspec": {
   "display_name": "Python 3 (ipykernel)",
   "language": "python",
   "name": "python3"
  },
  "language_info": {
   "codemirror_mode": {
    "name": "ipython",
    "version": 3
   },
   "file_extension": ".py",
   "mimetype": "text/x-python",
   "name": "python",
   "nbconvert_exporter": "python",
   "pygments_lexer": "ipython3",
   "version": "3.9.12"
  }
 },
 "nbformat": 4,
 "nbformat_minor": 5
}
