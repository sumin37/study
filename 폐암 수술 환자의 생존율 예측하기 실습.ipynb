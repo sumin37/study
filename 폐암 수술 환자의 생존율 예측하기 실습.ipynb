{
 "cells": [
  {
   "cell_type": "code",
   "execution_count": 2,
   "id": "f5fb734f",
   "metadata": {},
   "outputs": [],
   "source": [
    "#딥러닝을 구동하는 데 필요한 케라스 함수 호출\n",
    "from tensorflow.keras.models import Sequential\n",
    "from tensorflow.keras.layers import Dense"
   ]
  },
  {
   "cell_type": "code",
   "execution_count": 3,
   "id": "aee7ce00",
   "metadata": {},
   "outputs": [],
   "source": [
    "import numpy as np\n",
    "import tensorflow as tf"
   ]
  },
  {
   "cell_type": "code",
   "execution_count": 4,
   "id": "d28cdf5d",
   "metadata": {},
   "outputs": [],
   "source": [
    "#실행때마다 같은 결과 나오게 설정\n",
    "np.random.seed(3)\n",
    "tf.random.set_seed(3)"
   ]
  },
  {
   "cell_type": "code",
   "execution_count": 5,
   "id": "8276ca65",
   "metadata": {},
   "outputs": [],
   "source": [
    "#data read\n",
    "Data_set=np.loadtxt(\"/Users/sumin/Downloads/ThoraricSurgery.csv\",delimiter=\",\")"
   ]
  },
  {
   "cell_type": "code",
   "execution_count": 8,
   "id": "d87c439e",
   "metadata": {},
   "outputs": [
    {
     "data": {
      "text/plain": [
       "array([[293.  ,   1.  ,   3.8 , ...,   0.  ,  62.  ,   0.  ],\n",
       "       [  1.  ,   2.  ,   2.88, ...,   0.  ,  60.  ,   0.  ],\n",
       "       [  8.  ,   2.  ,   3.19, ...,   0.  ,  66.  ,   1.  ],\n",
       "       ...,\n",
       "       [406.  ,   6.  ,   5.36, ...,   0.  ,  62.  ,   0.  ],\n",
       "       [ 25.  ,   8.  ,   4.32, ...,   0.  ,  58.  ,   1.  ],\n",
       "       [447.  ,   8.  ,   5.2 , ...,   0.  ,  49.  ,   0.  ]])"
      ]
     },
     "execution_count": 8,
     "metadata": {},
     "output_type": "execute_result"
    }
   ],
   "source": [
    "Data_set"
   ]
  },
  {
   "cell_type": "code",
   "execution_count": 9,
   "id": "b8976d1b",
   "metadata": {},
   "outputs": [],
   "source": [
    "#환자의 기록과 수술 결과를 X와 Y로 구분하여 저장\n",
    "X = Data_set[:,0:17]\n",
    "Y = Data_set[:,17]"
   ]
  },
  {
   "cell_type": "code",
   "execution_count": 10,
   "id": "b39b1e3d",
   "metadata": {},
   "outputs": [
    {
     "name": "stderr",
     "output_type": "stream",
     "text": [
      "2023-05-20 19:15:21.117191: I tensorflow/core/platform/cpu_feature_guard.cc:193] This TensorFlow binary is optimized with oneAPI Deep Neural Network Library (oneDNN) to use the following CPU instructions in performance-critical operations:  SSE4.1 SSE4.2\n",
      "To enable them in other operations, rebuild TensorFlow with the appropriate compiler flags.\n"
     ]
    }
   ],
   "source": [
    "#딥러닝 구조를 결정(모델 설정하고 실행)\n",
    "model = Sequential()\n",
    "model.add(Dense(30,input_dim=17, activation='relu'))\n",
    "model.add(Dense(1,activation='sigmoid'))"
   ]
  },
  {
   "cell_type": "code",
   "execution_count": 11,
   "id": "889245f7",
   "metadata": {},
   "outputs": [
    {
     "name": "stdout",
     "output_type": "stream",
     "text": [
      "Epoch 1/100\n",
      "47/47 [==============================] - 0s 528us/step - loss: 0.1729 - accuracy: 0.8234\n",
      "Epoch 2/100\n",
      "47/47 [==============================] - 0s 473us/step - loss: 0.1489 - accuracy: 0.8511\n",
      "Epoch 3/100\n",
      "47/47 [==============================] - 0s 449us/step - loss: 0.1489 - accuracy: 0.8511\n",
      "Epoch 4/100\n",
      "47/47 [==============================] - 0s 486us/step - loss: 0.1489 - accuracy: 0.8511\n",
      "Epoch 5/100\n",
      "47/47 [==============================] - 0s 494us/step - loss: 0.1489 - accuracy: 0.8511\n",
      "Epoch 6/100\n",
      "47/47 [==============================] - 0s 529us/step - loss: 0.1489 - accuracy: 0.8511\n",
      "Epoch 7/100\n",
      "47/47 [==============================] - 0s 446us/step - loss: 0.1489 - accuracy: 0.8511\n",
      "Epoch 8/100\n",
      "47/47 [==============================] - 0s 481us/step - loss: 0.1489 - accuracy: 0.8511\n",
      "Epoch 9/100\n",
      "47/47 [==============================] - 0s 424us/step - loss: 0.1489 - accuracy: 0.8511\n",
      "Epoch 10/100\n",
      "47/47 [==============================] - 0s 444us/step - loss: 0.1489 - accuracy: 0.8511\n",
      "Epoch 11/100\n",
      "47/47 [==============================] - 0s 475us/step - loss: 0.1489 - accuracy: 0.8511\n",
      "Epoch 12/100\n",
      "47/47 [==============================] - 0s 465us/step - loss: 0.1490 - accuracy: 0.8511\n",
      "Epoch 13/100\n",
      "47/47 [==============================] - 0s 446us/step - loss: 0.1487 - accuracy: 0.8511\n",
      "Epoch 14/100\n",
      "47/47 [==============================] - 0s 473us/step - loss: 0.1490 - accuracy: 0.8511\n",
      "Epoch 15/100\n",
      "47/47 [==============================] - 0s 603us/step - loss: 0.1488 - accuracy: 0.8511\n",
      "Epoch 16/100\n",
      "47/47 [==============================] - 0s 512us/step - loss: 0.1479 - accuracy: 0.8511\n",
      "Epoch 17/100\n",
      "47/47 [==============================] - 0s 455us/step - loss: 0.1482 - accuracy: 0.8426\n",
      "Epoch 18/100\n",
      "47/47 [==============================] - 0s 503us/step - loss: 0.1487 - accuracy: 0.8511\n",
      "Epoch 19/100\n",
      "47/47 [==============================] - 0s 457us/step - loss: 0.1485 - accuracy: 0.8511\n",
      "Epoch 20/100\n",
      "47/47 [==============================] - 0s 457us/step - loss: 0.1479 - accuracy: 0.8489\n",
      "Epoch 21/100\n",
      "47/47 [==============================] - 0s 490us/step - loss: 0.1479 - accuracy: 0.8468\n",
      "Epoch 22/100\n",
      "47/47 [==============================] - 0s 442us/step - loss: 0.1488 - accuracy: 0.8511\n",
      "Epoch 23/100\n",
      "47/47 [==============================] - 0s 459us/step - loss: 0.1488 - accuracy: 0.8511\n",
      "Epoch 24/100\n",
      "47/47 [==============================] - 0s 550us/step - loss: 0.1488 - accuracy: 0.8511\n",
      "Epoch 25/100\n",
      "47/47 [==============================] - 0s 492us/step - loss: 0.1487 - accuracy: 0.8511\n",
      "Epoch 26/100\n",
      "47/47 [==============================] - 0s 513us/step - loss: 0.1485 - accuracy: 0.8511\n",
      "Epoch 27/100\n",
      "47/47 [==============================] - 0s 494us/step - loss: 0.1483 - accuracy: 0.8489\n",
      "Epoch 28/100\n",
      "47/47 [==============================] - 0s 461us/step - loss: 0.1474 - accuracy: 0.8511\n",
      "Epoch 29/100\n",
      "47/47 [==============================] - 0s 460us/step - loss: 0.1474 - accuracy: 0.8511\n",
      "Epoch 30/100\n",
      "47/47 [==============================] - 0s 414us/step - loss: 0.1473 - accuracy: 0.8489\n",
      "Epoch 31/100\n",
      "47/47 [==============================] - 0s 517us/step - loss: 0.1478 - accuracy: 0.8511\n",
      "Epoch 32/100\n",
      "47/47 [==============================] - 0s 478us/step - loss: 0.1468 - accuracy: 0.8532\n",
      "Epoch 33/100\n",
      "47/47 [==============================] - 0s 475us/step - loss: 0.1476 - accuracy: 0.8489\n",
      "Epoch 34/100\n",
      "47/47 [==============================] - 0s 460us/step - loss: 0.1474 - accuracy: 0.8489\n",
      "Epoch 35/100\n",
      "47/47 [==============================] - 0s 486us/step - loss: 0.1465 - accuracy: 0.8532\n",
      "Epoch 36/100\n",
      "47/47 [==============================] - 0s 692us/step - loss: 0.1462 - accuracy: 0.8511\n",
      "Epoch 37/100\n",
      "47/47 [==============================] - 0s 522us/step - loss: 0.1474 - accuracy: 0.8489\n",
      "Epoch 38/100\n",
      "47/47 [==============================] - 0s 456us/step - loss: 0.1457 - accuracy: 0.8532\n",
      "Epoch 39/100\n",
      "47/47 [==============================] - 0s 481us/step - loss: 0.1463 - accuracy: 0.8489\n",
      "Epoch 40/100\n",
      "47/47 [==============================] - 0s 465us/step - loss: 0.1458 - accuracy: 0.8468\n",
      "Epoch 41/100\n",
      "47/47 [==============================] - 0s 488us/step - loss: 0.1460 - accuracy: 0.8468\n",
      "Epoch 42/100\n",
      "47/47 [==============================] - 0s 452us/step - loss: 0.1484 - accuracy: 0.8511\n",
      "Epoch 43/100\n",
      "47/47 [==============================] - 0s 484us/step - loss: 0.1473 - accuracy: 0.8511\n",
      "Epoch 44/100\n",
      "47/47 [==============================] - 0s 482us/step - loss: 0.1435 - accuracy: 0.8511\n",
      "Epoch 45/100\n",
      "47/47 [==============================] - 0s 542us/step - loss: 0.1451 - accuracy: 0.8489\n",
      "Epoch 46/100\n",
      "47/47 [==============================] - 0s 481us/step - loss: 0.1463 - accuracy: 0.8532\n",
      "Epoch 47/100\n",
      "47/47 [==============================] - 0s 491us/step - loss: 0.1438 - accuracy: 0.8532\n",
      "Epoch 48/100\n",
      "47/47 [==============================] - 0s 490us/step - loss: 0.1435 - accuracy: 0.8511\n",
      "Epoch 49/100\n",
      "47/47 [==============================] - 0s 475us/step - loss: 0.1479 - accuracy: 0.8489\n",
      "Epoch 50/100\n",
      "47/47 [==============================] - 0s 469us/step - loss: 0.1436 - accuracy: 0.8553\n",
      "Epoch 51/100\n",
      "47/47 [==============================] - 0s 435us/step - loss: 0.1435 - accuracy: 0.8532\n",
      "Epoch 52/100\n",
      "47/47 [==============================] - 0s 488us/step - loss: 0.1429 - accuracy: 0.8553\n",
      "Epoch 53/100\n",
      "47/47 [==============================] - 0s 498us/step - loss: 0.1432 - accuracy: 0.8532\n",
      "Epoch 54/100\n",
      "47/47 [==============================] - 0s 556us/step - loss: 0.1431 - accuracy: 0.8553\n",
      "Epoch 55/100\n",
      "47/47 [==============================] - 0s 493us/step - loss: 0.1425 - accuracy: 0.8553\n",
      "Epoch 56/100\n",
      "47/47 [==============================] - 0s 553us/step - loss: 0.1423 - accuracy: 0.8574\n",
      "Epoch 57/100\n",
      "47/47 [==============================] - 0s 577us/step - loss: 0.1448 - accuracy: 0.8553\n",
      "Epoch 58/100\n",
      "47/47 [==============================] - 0s 563us/step - loss: 0.1436 - accuracy: 0.8511\n",
      "Epoch 59/100\n",
      "47/47 [==============================] - 0s 434us/step - loss: 0.1478 - accuracy: 0.8468\n",
      "Epoch 60/100\n",
      "47/47 [==============================] - 0s 444us/step - loss: 0.1441 - accuracy: 0.8532\n",
      "Epoch 61/100\n",
      "47/47 [==============================] - 0s 483us/step - loss: 0.1425 - accuracy: 0.8532\n",
      "Epoch 62/100\n",
      "47/47 [==============================] - 0s 437us/step - loss: 0.1422 - accuracy: 0.8553\n",
      "Epoch 63/100\n",
      "47/47 [==============================] - 0s 428us/step - loss: 0.1425 - accuracy: 0.8553\n",
      "Epoch 64/100\n",
      "47/47 [==============================] - 0s 433us/step - loss: 0.1419 - accuracy: 0.8532\n",
      "Epoch 65/100\n",
      "47/47 [==============================] - 0s 430us/step - loss: 0.1424 - accuracy: 0.8511\n",
      "Epoch 66/100\n",
      "47/47 [==============================] - 0s 430us/step - loss: 0.1420 - accuracy: 0.8511\n",
      "Epoch 67/100\n",
      "47/47 [==============================] - 0s 440us/step - loss: 0.1420 - accuracy: 0.8553\n",
      "Epoch 68/100\n",
      "47/47 [==============================] - 0s 432us/step - loss: 0.1418 - accuracy: 0.8532\n",
      "Epoch 69/100\n",
      "47/47 [==============================] - 0s 434us/step - loss: 0.1425 - accuracy: 0.8553\n",
      "Epoch 70/100\n",
      "47/47 [==============================] - 0s 440us/step - loss: 0.1415 - accuracy: 0.8532\n",
      "Epoch 71/100\n",
      "47/47 [==============================] - 0s 435us/step - loss: 0.1419 - accuracy: 0.8574\n",
      "Epoch 72/100\n",
      "47/47 [==============================] - 0s 412us/step - loss: 0.1417 - accuracy: 0.8532\n",
      "Epoch 73/100\n",
      "47/47 [==============================] - 0s 442us/step - loss: 0.1417 - accuracy: 0.8553\n",
      "Epoch 74/100\n",
      "47/47 [==============================] - 0s 452us/step - loss: 0.1417 - accuracy: 0.8574\n",
      "Epoch 75/100\n",
      "47/47 [==============================] - 0s 438us/step - loss: 0.1411 - accuracy: 0.8596\n",
      "Epoch 76/100\n",
      "47/47 [==============================] - 0s 472us/step - loss: 0.1421 - accuracy: 0.8574\n",
      "Epoch 77/100\n",
      "47/47 [==============================] - 0s 471us/step - loss: 0.1404 - accuracy: 0.8596\n",
      "Epoch 78/100\n",
      "47/47 [==============================] - 0s 453us/step - loss: 0.1410 - accuracy: 0.8574\n",
      "Epoch 79/100\n",
      "47/47 [==============================] - 0s 451us/step - loss: 0.1414 - accuracy: 0.8574\n",
      "Epoch 80/100\n",
      "47/47 [==============================] - 0s 448us/step - loss: 0.1423 - accuracy: 0.8553\n",
      "Epoch 81/100\n"
     ]
    },
    {
     "name": "stdout",
     "output_type": "stream",
     "text": [
      "47/47 [==============================] - 0s 464us/step - loss: 0.1421 - accuracy: 0.8553\n",
      "Epoch 82/100\n",
      "47/47 [==============================] - 0s 441us/step - loss: 0.1415 - accuracy: 0.8574\n",
      "Epoch 83/100\n",
      "47/47 [==============================] - 0s 421us/step - loss: 0.1411 - accuracy: 0.8574\n",
      "Epoch 84/100\n",
      "47/47 [==============================] - 0s 430us/step - loss: 0.1411 - accuracy: 0.8596\n",
      "Epoch 85/100\n",
      "47/47 [==============================] - 0s 423us/step - loss: 0.1407 - accuracy: 0.8574\n",
      "Epoch 86/100\n",
      "47/47 [==============================] - 0s 429us/step - loss: 0.1420 - accuracy: 0.8553\n",
      "Epoch 87/100\n",
      "47/47 [==============================] - 0s 502us/step - loss: 0.1420 - accuracy: 0.8553\n",
      "Epoch 88/100\n",
      "47/47 [==============================] - 0s 475us/step - loss: 0.1405 - accuracy: 0.8553\n",
      "Epoch 89/100\n",
      "47/47 [==============================] - 0s 441us/step - loss: 0.1422 - accuracy: 0.8553\n",
      "Epoch 90/100\n",
      "47/47 [==============================] - 0s 427us/step - loss: 0.1404 - accuracy: 0.8574\n",
      "Epoch 91/100\n",
      "47/47 [==============================] - 0s 429us/step - loss: 0.1409 - accuracy: 0.8553\n",
      "Epoch 92/100\n",
      "47/47 [==============================] - 0s 431us/step - loss: 0.1417 - accuracy: 0.8574\n",
      "Epoch 93/100\n",
      "47/47 [==============================] - 0s 427us/step - loss: 0.1388 - accuracy: 0.8596\n",
      "Epoch 94/100\n",
      "47/47 [==============================] - 0s 414us/step - loss: 0.1430 - accuracy: 0.8511\n",
      "Epoch 95/100\n",
      "47/47 [==============================] - 0s 406us/step - loss: 0.1418 - accuracy: 0.8574\n",
      "Epoch 96/100\n",
      "47/47 [==============================] - 0s 422us/step - loss: 0.1407 - accuracy: 0.8596\n",
      "Epoch 97/100\n",
      "47/47 [==============================] - 0s 411us/step - loss: 0.1403 - accuracy: 0.8574\n",
      "Epoch 98/100\n",
      "47/47 [==============================] - 0s 415us/step - loss: 0.1400 - accuracy: 0.8596\n",
      "Epoch 99/100\n",
      "47/47 [==============================] - 0s 440us/step - loss: 0.1405 - accuracy: 0.8617\n",
      "Epoch 100/100\n",
      "47/47 [==============================] - 0s 435us/step - loss: 0.1402 - accuracy: 0.8596\n"
     ]
    },
    {
     "data": {
      "text/plain": [
       "<keras.callbacks.History at 0x7fa4d1c2ac70>"
      ]
     },
     "execution_count": 11,
     "metadata": {},
     "output_type": "execute_result"
    }
   ],
   "source": [
    "#딥러닝 실행\n",
    "model.compile(loss='mean_squared_error', optimizer='adam', metrics=['accuracy'])\n",
    "model.fit(X,Y,epochs=100, batch_size=10)"
   ]
  },
  {
   "cell_type": "code",
   "execution_count": null,
   "id": "a45fbe24",
   "metadata": {},
   "outputs": [],
   "source": [
    "#결과의 의미 : loss = 예측이 실패할 확률, accuracy = 예측이 성공할 확률."
   ]
  }
 ],
 "metadata": {
  "jupytext": {
   "formats": "ipynb,auto:light"
  },
  "kernelspec": {
   "display_name": "Python 3 (ipykernel)",
   "language": "python",
   "name": "python3"
  },
  "language_info": {
   "codemirror_mode": {
    "name": "ipython",
    "version": 3
   },
   "file_extension": ".py",
   "mimetype": "text/x-python",
   "name": "python",
   "nbconvert_exporter": "python",
   "pygments_lexer": "ipython3",
   "version": "3.9.12"
  }
 },
 "nbformat": 4,
 "nbformat_minor": 5
}
